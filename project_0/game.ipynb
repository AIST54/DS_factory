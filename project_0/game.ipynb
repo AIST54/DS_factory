{
 "cells": [
  {
   "cell_type": "code",
<<<<<<< HEAD
   "execution_count": 1,
   "metadata": {},
   "outputs": [],
   "source": [
    "import game_v2"
=======
   "execution_count": 3,
   "metadata": {},
   "outputs": [],
   "source": [
    "import game_v2\n"
>>>>>>> 15de14d (First commit)
   ]
  },
  {
   "cell_type": "code",
   "execution_count": 2,
   "metadata": {},
   "outputs": [
    {
     "name": "stdout",
     "output_type": "stream",
     "text": [
      "Ваш алгоритм угадывает число в среднем за: 101 попыток\n"
     ]
    },
    {
     "data": {
      "text/plain": [
       "101"
      ]
     },
     "execution_count": 2,
     "metadata": {},
     "output_type": "execute_result"
    }
   ],
   "source": [
    "game_v2.score_game(game_v2.random_predict)"
   ]
  },
  {
<<<<<<< HEAD
   "cell_type": "code",
   "execution_count": 3,
=======
   "attachments": {},
   "cell_type": "markdown",
   "metadata": {},
   "source": [
    "# ИГРА УГАДАЙ ЧИСЛО\n"
   ]
  },
  {
   "cell_type": "code",
   "execution_count": 5,
>>>>>>> 15de14d (First commit)
   "metadata": {},
   "outputs": [],
   "source": [
    "from game_v2 import score_game\n",
    "from game_v2 import random_predict"
   ]
  },
  {
<<<<<<< HEAD
   "cell_type": "code",
   "execution_count": 4,
=======
   "attachments": {},
   "cell_type": "markdown",
   "metadata": {},
   "source": [
    "## Угадываем рандомно"
   ]
  },
  {
   "cell_type": "code",
   "execution_count": 6,
>>>>>>> 15de14d (First commit)
   "metadata": {},
   "outputs": [
    {
     "name": "stdout",
     "output_type": "stream",
     "text": [
      "Ваш алгоритм угадывает число в среднем за: 101 попыток\n"
     ]
    },
    {
     "data": {
      "text/plain": [
       "101"
      ]
     },
<<<<<<< HEAD
     "execution_count": 4,
=======
     "execution_count": 6,
>>>>>>> 15de14d (First commit)
     "metadata": {},
     "output_type": "execute_result"
    }
   ],
   "source": [
    "score_game(random_predict) #вызов функции"
   ]
<<<<<<< HEAD
  },
  {
   "cell_type": "code",
   "execution_count": null,
   "metadata": {},
   "outputs": [],
   "source": []
  }
 ],
 "metadata": {
  "interpreter": {
   "hash": "7f9171b8c1054eb11eace701c6df237cd904c22b24e4c34ca498249fd2eab90d"
  },
  "kernelspec": {
   "display_name": "Python 3.9.10 64-bit",
=======
  }
 ],
 "metadata": {
  "kernelspec": {
   "display_name": "Python 3",
>>>>>>> 15de14d (First commit)
   "language": "python",
   "name": "python3"
  },
  "language_info": {
   "codemirror_mode": {
    "name": "ipython",
    "version": 3
   },
   "file_extension": ".py",
   "mimetype": "text/x-python",
   "name": "python",
   "nbconvert_exporter": "python",
   "pygments_lexer": "ipython3",
<<<<<<< HEAD
   "version": "3.9.10"
  },
  "orig_nbformat": 4
=======
   "version": "3.10.9 (tags/v3.10.9:1dd9be6, Dec  6 2022, 20:01:21) [MSC v.1934 64 bit (AMD64)]"
  },
  "orig_nbformat": 4,
  "vscode": {
   "interpreter": {
    "hash": "34d10e8f1363b336aa30d09a800aa8ed0a526bebe65c01f4c1b2b565eda3c045"
   }
  }
>>>>>>> 15de14d (First commit)
 },
 "nbformat": 4,
 "nbformat_minor": 2
}
